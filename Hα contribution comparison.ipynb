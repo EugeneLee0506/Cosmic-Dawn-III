{
 "cells": [
  {
   "cell_type": "code",
   "execution_count": 32,
   "id": "2057f0c5-dbe3-412c-b7d5-5db2201caf57",
   "metadata": {},
   "outputs": [],
   "source": [
    "import numpy as np\n",
    "import astropy\n",
    "import math\n",
    "#import yt\n",
    "#from yt.units import Msun, pc, kpc, Mpc, km, s, Gyr, Kelvin, g, cm, Myr\n",
    "import matplotlib.colors as colors\n",
    "import matplotlib.pyplot as plt\n",
    "import matplotlib as mpl\n",
    "from scipy.ndimage import gaussian_filter1d\n",
    "from scipy.interpolate import UnivariateSpline\n",
    "from powerbox import PowerBox\n",
    "from powerbox import get_power"
   ]
  },
  {
   "cell_type": "code",
   "execution_count": 33,
   "id": "967aba28-7904-4540-b659-73dfdbe73e3a",
   "metadata": {},
   "outputs": [],
   "source": [
    "hv_alpha = 3.028113999E-12 #[erg] energy of H-alpha line \n",
    "H0 = 0.677699966430664E+02\n",
    "G = 6.67408E-8\n",
    "c = 2.99792458e10\n",
    "omega_b=0.450000017881393E-01\n",
    "omega_m=0.307\n",
    "omega_l=0.693\n",
    "hv_alpha = 3.028113999E-12 #[erg] - in cgs unit\n",
    "m_p = 1.6726E-24 #[g] - in cgs unit\n",
    "k_b = 1.3807E-16\n",
    "e = 2.71828182845904\n",
    "unit_d = np.load('unit_d.npy').astype(np.float32)\n",
    "redshift = np.load('redshift.npy').astype(np.float32)\n",
    "scale = np.load('scale_factor.npy').astype(np.float32)"
   ]
  },
  {
   "cell_type": "code",
   "execution_count": 34,
   "id": "6d8bb22c-593a-4348-90ec-788e80e2201d",
   "metadata": {},
   "outputs": [],
   "source": [
    "def rec(T):\n",
    "    return 1.17e-13*(T/10**4)**(-0.942-0.031*np.log(T/10**4)) * hv_alpha # = h_nu x alpha eff : Draine-based\n",
    "def col(T):\n",
    "    return 3.57e-17*(np.exp(-140360/T)/T**0.5)*(1+7.8/(1+5E5/T)) # = epsilopn_col (H-alpha) : Raga-based\n",
    "def raga_rec(T):\n",
    "    return 4.85e-23 / (T**0.568 +3.85 * 10**(-5) * T**1.5) # = epsilon_rec (H-alpha) : Raga-based"
   ]
  },
  {
   "cell_type": "code",
   "execution_count": 35,
   "id": "0dfe3e8e-3e2f-47e3-b111-d93f4c98bcfd",
   "metadata": {},
   "outputs": [],
   "source": [
    "temp = np.arange(0, 1000000, 1000)"
   ]
  },
  {
   "cell_type": "code",
   "execution_count": 36,
   "id": "3e227426-89ab-4a45-8f42-07f20817590f",
   "metadata": {},
   "outputs": [
    {
     "name": "stderr",
     "output_type": "stream",
     "text": [
      "/var/folders/zx/jtqqh75d5_dbs29d4m3j6g_r0000gn/T/ipykernel_13664/4019451654.py:2: RuntimeWarning: divide by zero encountered in log\n",
      "  return 1.17e-13*(T/10**4)**(-0.942-0.031*np.log(T/10**4)) * hv_alpha # = h_nu x alpha eff : Draine-based\n",
      "/var/folders/zx/jtqqh75d5_dbs29d4m3j6g_r0000gn/T/ipykernel_13664/4019451654.py:4: RuntimeWarning: divide by zero encountered in true_divide\n",
      "  return 3.57e-17*(np.exp(-140360/T)/T**0.5)*(1+7.8/(1+5E5/T)) # = epsilopn_col (H-alpha) : Raga-based\n",
      "/var/folders/zx/jtqqh75d5_dbs29d4m3j6g_r0000gn/T/ipykernel_13664/4019451654.py:4: RuntimeWarning: invalid value encountered in true_divide\n",
      "  return 3.57e-17*(np.exp(-140360/T)/T**0.5)*(1+7.8/(1+5E5/T)) # = epsilopn_col (H-alpha) : Raga-based\n",
      "/var/folders/zx/jtqqh75d5_dbs29d4m3j6g_r0000gn/T/ipykernel_13664/4019451654.py:6: RuntimeWarning: divide by zero encountered in true_divide\n",
      "  return 4.85e-23 / (T**0.568 +3.85 * 10**(-5) * T**1.5) # = epsilon_rec (H-alpha) : Raga-based\n"
     ]
    }
   ],
   "source": [
    "temprec = rec(temp)\n",
    "tempcol = col(temp)\n",
    "ragarec = raga_rec(temp)"
   ]
  },
  {
   "cell_type": "markdown",
   "id": "a4bca7f0-c19a-4fab-bb6d-e71a482adfc2",
   "metadata": {},
   "source": [
    "Plot below is an attempt to replicate Figure 1 in Raga et al."
   ]
  },
  {
   "cell_type": "code",
   "execution_count": 37,
   "id": "50d5d818-413a-41f5-94a4-afa68bf06b2b",
   "metadata": {},
   "outputs": [
    {
     "data": {
      "text/plain": [
       "<matplotlib.legend.Legend at 0x7fdaa95b41c0>"
      ]
     },
     "execution_count": 37,
     "metadata": {},
     "output_type": "execute_result"
    },
    {
     "data": {
      "image/png": "[encoded data removed]",
      "text/plain": [
       "<Figure size 432x288 with 1 Axes>"
      ]
     },
     "metadata": {
      "needs_background": "light"
     },
     "output_type": "display_data"
    }
   ],
   "source": [
    "plt.title(\"Contributions to the Hα emission coefficients of the recombination cascade and the collisional excitation cascade\") \n",
    "plt.xlabel(\"Temperature [K]\") \n",
    "plt.ylabel(\"Value\") \n",
    "plt.plot(temp, temprec, label = 'Recombination ($α_{eff}$ x $h_{ν}$ / Draine)')\n",
    "plt.plot(temp, tempcol, label = 'Collision')\n",
    "plt.plot(temp, ragarec, label = 'Recombination / Raga')\n",
    "plt.yscale('log')  # Set x-axis to logarithmic scale\n",
    "plt.xscale('log')\n",
    "plt.xlim(10**3, 10**6)\n",
    "plt.ylim(10**-28, 10**-18.5)\n",
    "#plt.savefig('raga.png')\n",
    "plt.legend()"
   ]
  },
  {
   "cell_type": "markdown",
   "id": "33113650-2a2e-425e-b5bd-4b7453f5ead9",
   "metadata": {},
   "source": [
    "Below: Comparinson between luminosity density of recombination and collision, in various conditions (input: Temperature, gas density (rho), ionization fraction (xion), and redshift_num (e.g. 117 for output_118). \n",
    "\n",
    "Both equations were based on the Draine's coefficient, and the result is the final version of cell-wise H-alpha luminoisty density (rec/col) we used for the research. "
   ]
  },
  {
   "cell_type": "code",
   "execution_count": 41,
   "id": "b897b8ab-512b-4004-a837-ff4b5ae15317",
   "metadata": {},
   "outputs": [],
   "source": [
    "def Rec(T, rho, xion, redshift_num):\n",
    "    return hv_alpha * 1.17E-13*(T/10E3)**(-0.942-0.031*np.log(T/10E3))*((rho*unit_d[redshift_num]/m_p)*xion)**2 *0.76**2\n",
    "def Col(T, rho, xion, redshift_num):\n",
    "    return 3.57E-17 * ((unit_d[redshift_num])/m_p)**2 * 0.76**2 *  (1/T**0.5)*(1+7.8/(1+5E5/T)) * np.exp(-140360/T, dtype=np.float32) *rho**2 * xion * (1-xion)"
   ]
  },
  {
   "cell_type": "code",
   "execution_count": 42,
   "id": "824447bf-1833-448e-8bc5-511f7c4bba40",
   "metadata": {},
   "outputs": [],
   "source": [
    "Rec_example = Rec(40000,0.143,0.999, 117)\n",
    "Col_example = Col(40000,0.143,0.999, 117)"
   ]
  },
  {
   "cell_type": "code",
   "execution_count": 43,
   "id": "b1471c2a-9438-4311-9476-b687e99a6ac8",
   "metadata": {},
   "outputs": [
    {
     "data": {
      "text/plain": [
       "0.01071925868040383"
      ]
     },
     "execution_count": 43,
     "metadata": {},
     "output_type": "execute_result"
    }
   ],
   "source": [
    "Rec_example/Col_example"
   ]
  }
 ],
 "metadata": {
  "kernelspec": {
   "display_name": "Python 3 (ipykernel)",
   "language": "python",
   "name": "python3"
  },
  "language_info": {
   "codemirror_mode": {
    "name": "ipython",
    "version": 3
   },
   "file_extension": ".py",
   "mimetype": "text/x-python",
   "name": "python",
   "nbconvert_exporter": "python",
   "pygments_lexer": "ipython3",
   "version": "3.9.12"
  }
 },
 "nbformat": 4,
 "nbformat_minor": 5
}
